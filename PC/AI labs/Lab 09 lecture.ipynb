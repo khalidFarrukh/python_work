{
 "cells": [
  {
   "cell_type": "markdown",
   "metadata": {},
   "source": [
    "# Hill Climbing Search"
   ]
  },
  {
   "cell_type": "markdown",
   "metadata": {},
   "source": [
    "Hill Climbing is a heuristic search used for mathematical optimization problems in the field of Artificial Intelligence."
   ]
  },
  {
   "cell_type": "markdown",
   "metadata": {},
   "source": [
    "In examining a search tree, hill climbing will move to the first successor node that is “better” than the current node—in other words, the first node that it comes across with a heuristic value lower than that of the current node. Now hill climbing proceeds as with depth-first search, but at each step, the new nodes to be added to the queue are sorted into order of distance from the goal."
   ]
  },
  {
   "cell_type": "markdown",
   "metadata": {},
   "source": [
    "## Types of Hill Climbing Search\n",
    "- Simple Hill Climbing Search\n",
    "- Steepest-Ascent Hill Climbing Search\n",
    "- Stochastic Hill Climbing Search"
   ]
  },
  {
   "cell_type": "markdown",
   "metadata": {},
   "source": [
    "### Steepest-Ascent hill climbing\n",
    "The steepest-Ascent algorithm is a variation of the simple hill-climbing algorithm. This algorithm examines all the neighboring nodes of the current state and selects one neighbor node which is closest to the goal state. This algorithm consumes more time as it searches for multiple neighbors."
   ]
  },
  {
   "cell_type": "markdown",
   "metadata": {},
   "source": [
    "- <b>Step 1:</b> Evaluate the initial state, if it is goal state then return success and stop, else make the current state as your initial state.\n",
    "- <b>Step 2:</b> Loop until a solution is found or the current state does not change.\n",
    "   - <b>i.</b> Let S be a state such that any successor of the current state will be better than it.\n",
    "   - <b>ii.</b> For each operator that applies to the current state;\n",
    "        - Apply the new operator and generate a new state.\n",
    "        - Evaluate the new state.\n",
    "        - If it is goal state, then return it and quit, else compare it to the S.\n",
    "        - If it is better than S, then set new state as S.\n",
    "        - If the S is better than the current state, then set the current state to S.\n",
    "- <b>Step 3:</b> Exit."
   ]
  },
  {
   "cell_type": "markdown",
   "metadata": {},
   "source": [
    "### Stochastic hill climbing\n",
    "Stochastic hill climbing does not examine for all its neighbors before moving. Rather, this search algorithm selects one neighbor node at random and evaluate it as a current state or examine another state."
   ]
  },
  {
   "cell_type": "code",
   "execution_count": null,
   "metadata": {},
   "outputs": [],
   "source": []
  }
 ],
 "metadata": {
  "kernelspec": {
   "display_name": "Python 3",
   "language": "python",
   "name": "python3"
  },
  "language_info": {
   "codemirror_mode": {
    "name": "ipython",
    "version": 3
   },
   "file_extension": ".py",
   "mimetype": "text/x-python",
   "name": "python",
   "nbconvert_exporter": "python",
   "pygments_lexer": "ipython3",
   "version": "3.7.6"
  }
 },
 "nbformat": 4,
 "nbformat_minor": 4
}
