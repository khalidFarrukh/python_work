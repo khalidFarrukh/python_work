{
 "cells": [
  {
   "cell_type": "code",
   "execution_count": null,
   "metadata": {},
   "outputs": [],
   "source": [
    "MyGraph = {\n",
    "    \"A\":[None,[\"B\",\"Q\"],None],\n",
    "    \"B\":[\"A\",[\"C\",\"L\"],None],\n",
    "    \"Q\":[\"A\",[\"R\",\"X\"],None],\n",
    "    \"C\":[\"B\",[\"D\",\"G\"],None],\n",
    "    \"L\":[\"B\",[\"K\",\"N\"],None],\n",
    "    \"R\":[\"Q\",[\"S\",\"V\"],None],\n",
    "    \"Y\":[\"Q\",[\"Z\",\"Z3\"],None],\n",
    "    \"D\":[\"C\",[\"E\",\"F\"],None],\n",
    "    \"G\":[\"C\",[\"H\",\"I\"],None],\n",
    "    \"K\":[\"J\",[\"L\",\"M\"],None],\n",
    "    \"N\":[\"J\",[\"O\",\"p\"],None],\n",
    "    \"S\":[\"R\",[\"T\",\"U\"],None],\n",
    "    \"V\":[\"R\",[\"W\",\"X\"],None],\n",
    "    \"Z\":[\"Y\",[\"Z\",\"Z1\"],None],\n",
    "    \"Z3\":[\"Y\",[\"Z4\",\"Z5\"],None],\n",
    "    \"E\":[\"D\",[],10],\n",
    "    \"F\":[\"D\",[],11],\n",
    "    \"H\":[\"G\",[],9],\n",
    "    \"I\":[\"G\",[],12],\n",
    "    \"L\":[\"K\",[],14],\n",
    "    \"M\":[\"K\",[],15],\n",
    "    \"O\":[\"N\",[],13],\n",
    "    \"P\":[\"N\",[],14],\n",
    "    \"T\":[\"S\",[],15],\n",
    "    \"U\":[\"S\",[],2],\n",
    "    \"W\":[\"V\",[],4],\n",
    "    \"X\":[\"V\",[],1],\n",
    "    \"Z1\":[\"Z\",[],3],\n",
    "    \"Z2\":[\"Z\",[],22],\n",
    "    \"Z4\":[\"Z3\",[],24],\n",
    "    \"Z5\":[\"Z3\",[],25]\n",
    "}"
   ]
  }
 ],
 "metadata": {
  "kernelspec": {
   "display_name": "Python 3",
   "language": "python",
   "name": "python3"
  },
  "language_info": {
   "codemirror_mode": {
    "name": "ipython",
    "version": 3
   },
   "file_extension": ".py",
   "mimetype": "text/x-python",
   "name": "python",
   "nbconvert_exporter": "python",
   "pygments_lexer": "ipython3",
   "version": "3.9.0"
  }
 },
 "nbformat": 4,
 "nbformat_minor": 4
}
