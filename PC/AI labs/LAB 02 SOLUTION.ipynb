{
 "cells": [
  {
   "cell_type": "markdown",
   "metadata": {},
   "source": [
    "# Lab 02 - Practice Tasks\n",
    "\n",
    "### Task1:\n",
    "\n",
    "Write a Python program to print the following string in a specific format (see the output). Sample String : \"Twinkle, twinkle, little star, How I wonder what you are! Up above the world so high, Like a diamond in the sky. Twinkle, twinkle, little star, How I wonder what you are\"\n",
    "Output :\n",
    "Twinkle, twinkle, little star,\n",
    "      How I wonder what you are!\n",
    "              Up above the world so high,\n",
    "              Like a diamond in the sky.\n",
    "Twinkle, twinkle, little star,\n",
    "      How I wonder what you are"
   ]
  },
  {
   "cell_type": "code",
   "execution_count": 2,
   "metadata": {
    "scrolled": true
   },
   "outputs": [
    {
     "name": "stdout",
     "output_type": "stream",
     "text": [
      "Twinkle, twinkle, little star, How I wonder what you are! Up above the world so high, Like a diamond in the sky. Twinkle, twinkle, little star, How I wonder what you are\n"
     ]
    }
   ],
   "source": [
    "print(\"Twinkle, twinkle, little star, How I wonder what you are! Up above the world so high, Like a diamond in the sky. Twinkle, twinkle, little star, How I wonder what you are\")"
   ]
  },
  {
   "cell_type": "markdown",
   "metadata": {},
   "source": [
    "### Task2:\n",
    "\n",
    "Write a Python program which accepts the user's first and last name and print them in reverse order with a space between them."
   ]
  },
  {
   "cell_type": "code",
   "execution_count": 3,
   "metadata": {},
   "outputs": [
    {
     "name": "stdout",
     "output_type": "stream",
     "text": [
      "Khalid   Farrukh\n"
     ]
    }
   ],
   "source": [
    "# we can use this as well\n",
    "#     first_name= input(\"fname: \")\n",
    "#     last_name= input(\"lname: \")\n",
    "\n",
    "first_name= \"Farrukh\"\n",
    "last_name = \"Khalid\"\n",
    "\n",
    "print(last_name,\" \",first_name)"
   ]
  },
  {
   "cell_type": "markdown",
   "metadata": {},
   "source": [
    "### Task3:\n",
    "\n",
    "Write a Python program which accepts a sequence of comma-separated numbers from user and generate a list and a tuple with those numbers"
   ]
  },
  {
   "cell_type": "code",
   "execution_count": 4,
   "metadata": {},
   "outputs": [
    {
     "name": "stdout",
     "output_type": "stream",
     "text": [
      "1,2,3,4,5,6\n",
      "list =  [1, 2, 3, 4, 5, 6]\n",
      "tuple =  (1, 2, 3, 4, 5, 6)\n"
     ]
    }
   ],
   "source": [
    "data = input ()\n",
    "dsize = len(data)\n",
    "\n",
    "l1 = list()\n",
    "\n",
    "i=0\n",
    "lti=0\n",
    "while i<dsize:\n",
    "    if data[i]!=',':\n",
    "        num = int(data[i])\n",
    "        index = int(lti)\n",
    "        l1.insert(index,num)\n",
    "        lti=lti+1\n",
    "    i=i+1\n",
    "print(\"list = \",l1)\n",
    "t1 = tuple(l1)\n",
    "print(\"tuple = \",t1)"
   ]
  },
  {
   "cell_type": "markdown",
   "metadata": {},
   "source": [
    "# Task4:\n",
    "\n",
    "Write a Python program that takes a list of words and returns the length of the longest one."
   ]
  },
  {
   "cell_type": "code",
   "execution_count": 6,
   "metadata": {},
   "outputs": [
    {
     "name": "stdout",
     "output_type": "stream",
     "text": [
      "7\n"
     ]
    }
   ],
   "source": [
    "\n",
    "\n",
    "def find_longest(list_n):\n",
    "    lnsize=len(list_n)\n",
    "    i=0\n",
    "    maxa=0\n",
    "    while i<lnsize:\n",
    "        temp = list_n[i]\n",
    "        if len(temp)>maxa:\n",
    "            maxa=len(temp)\n",
    "        i=i+1\n",
    "    return maxa\n",
    "\n",
    "list1 = [\"i\",\"am\",\"farrukh\"]\n",
    "max_length =find_longest(list1) \n",
    "\n",
    "print(max_length)"
   ]
  },
  {
   "cell_type": "markdown",
   "metadata": {},
   "source": [
    "### Task5:\n",
    "\n",
    "Write a Python script to generate and print a dictionary that contains a number (between 1 and n) in the form (x, x*x).\n",
    "\n",
    "Sample Dictionary ( n = 5) \n",
    "\n",
    "Expected Output : {1: 1, 2: 4, 3: 9, 4: 16, 5: 25}"
   ]
  },
  {
   "cell_type": "code",
   "execution_count": 7,
   "metadata": {},
   "outputs": [
    {
     "name": "stdout",
     "output_type": "stream",
     "text": [
      "n = 5\n",
      "{1: 1, 2: 4, 3: 9, 4: 16, 5: 25}\n"
     ]
    }
   ],
   "source": [
    "n = input(\"n = \")\n",
    "n=int(n)\n",
    "\n",
    "di =dict()\n",
    "i=1\n",
    "while i<=n:\n",
    "    temp = i*i\n",
    "    di[i] = temp\n",
    "    i=i+1\n",
    "    \n",
    "print(di)\n"
   ]
  },
  {
   "cell_type": "markdown",
   "metadata": {},
   "source": [
    "### Task6:\n",
    "\n",
    "Write a function \"factorial(n)\", which takes in a non-negative integer n and returns n!, which is the product of the integers from 1 to n."
   ]
  },
  {
   "cell_type": "code",
   "execution_count": 8,
   "metadata": {},
   "outputs": [
    {
     "name": "stdout",
     "output_type": "stream",
     "text": [
      "120\n"
     ]
    }
   ],
   "source": [
    "def factorial(n):\n",
    "    answer=1\n",
    "    i=2\n",
    "    while i<=n:\n",
    "        answer=answer*i;\n",
    "        \n",
    "        i=i+1\n",
    "    return answer;\n",
    "print(factorial(5))"
   ]
  },
  {
   "cell_type": "markdown",
   "metadata": {},
   "source": [
    "### Task7: \n",
    "\n",
    "Write a Python program to find that whether the given string is start with the given character using Lambda?"
   ]
  },
  {
   "cell_type": "code",
   "execution_count": 14,
   "metadata": {},
   "outputs": [
    {
     "name": "stdout",
     "output_type": "stream",
     "text": [
      "True\n",
      "False\n"
     ]
    }
   ],
   "source": [
    "def find_character_in_string(string,ch):\n",
    "    if ch==string[0]:\n",
    "        return True\n",
    "    return False\n",
    "\n",
    "string_start_with_given_character = lambda gstr,gch: find_character_in_string(gstr,gch)\n",
    "\n",
    "string = \"abcd\"\n",
    "ch = 'a'\n",
    "print(string_start_with_given_character(string,ch))\n",
    "ch = 'b'\n",
    "print(string_start_with_given_character(string,ch))"
   ]
  },
  {
   "cell_type": "markdown",
   "metadata": {},
   "source": [
    "### Task8:\n",
    "\n",
    "Write a Python program to find the values of length six in a given list using Lambda?"
   ]
  },
  {
   "cell_type": "code",
   "execution_count": 15,
   "metadata": {},
   "outputs": [
    {
     "name": "stdout",
     "output_type": "stream",
     "text": [
      "6\n",
      "6\n",
      "6\n",
      "6\n",
      "6\n",
      "6\n",
      "6\n",
      "there are  7  values of length 6\n"
     ]
    }
   ],
   "source": [
    "def find_values_length_6_(l1l1):\n",
    "    \n",
    "    i=0\n",
    "    size=len(l1l1)\n",
    "    count=0\n",
    "    while i<size:\n",
    "        if l1l1[i]==6:\n",
    "            print(6)\n",
    "            count=count+1\n",
    "        i=i+1\n",
    "    return count\n",
    "\n",
    "find_values_length_6 = lambda l1l1: find_values_length_6_(l1l1)\n",
    "\n",
    "l1111= [1,4,5,6,4,3,45,6,4,3,6,6,6,6,7,8,9,6,12]\n",
    "\n",
    "print(\"there are \",find_values_length_6(l1111), \" values of length 6\")"
   ]
  },
  {
   "cell_type": "markdown",
   "metadata": {},
   "source": [
    "### Task9:\n",
    "\n",
    "Write a Python program to find the even and odd numbers in a given array of integers using Lambda?"
   ]
  },
  {
   "cell_type": "code",
   "execution_count": 16,
   "metadata": {},
   "outputs": [
    {
     "name": "stdout",
     "output_type": "stream",
     "text": [
      "there are  6  even numbers in array\n",
      "there are  7  odd numbers in array\n"
     ]
    }
   ],
   "source": [
    "def finding_odd_and_even(arr):\n",
    "    \n",
    "    i=0\n",
    "    size=len(arr)\n",
    "    even_count=0\n",
    "    odd_count=0\n",
    "    while i<size:\n",
    "        if arr[i]%2==0:\n",
    "            even_count=even_count+1\n",
    "        else:\n",
    "            odd_count=odd_count+1\n",
    "        i=i+1\n",
    "    return (even_count,odd_count)\n",
    "\n",
    "find_odd_and_even = lambda arr: finding_odd_and_even(arr)\n",
    "\n",
    "arr=[1,2,3,4,5,6,7,8,9,10,11,12,13]\n",
    "(evens,odds)=finding_odd_and_even(arr)\n",
    "\n",
    "print(\"there are \",evens,\" even numbers in array\")\n",
    "print(\"there are \",odds,\" odd numbers in array\")"
   ]
  },
  {
   "cell_type": "markdown",
   "metadata": {},
   "source": [
    "### Task 10:\n",
    "\n",
    "Design and implement a class named Car that have private attributes name, number of doors and fuel economy. You have to implement the default constructor along with setters getters. Interface will perform required tasks and display the information about two Cars.\n",
    "\n",
    "Input:\n",
    "Name of the Car: Chevrolet\n",
    "\n",
    "Total Number of Doors: 4\n",
    "\n",
    "Fuel Economy of the Car (Km/Liter): 11.5"
   ]
  },
  {
   "cell_type": "code",
   "execution_count": 31,
   "metadata": {},
   "outputs": [
    {
     "name": "stdout",
     "output_type": "stream",
     "text": [
      "initial data:  honda 4 87\n",
      "new data:  honda 4 90\n",
      "output:  honda   4   90\n"
     ]
    }
   ],
   "source": [
    "class Car:\n",
    "    name=\"\" # the data member of a class.\n",
    "    number_of_doors=0 # the data member of a class.\n",
    "    fuel_economy=0 # the data member of a class.\n",
    "    \n",
    "    def __init__(self,Name,n_doors,f_economy): # the initilization of data members.\n",
    "        Car.name = Name\n",
    "        Car.number_of_doors = n_doors\n",
    "        Car.fuel_economy =f_economy\n",
    "    def setter(self,Name,n_doors,f_economy):\n",
    "        Car.name = Name\n",
    "        Car.number_of_doors = n_doors\n",
    "        Car.fuel_economy =f_economy\n",
    "    def getter(self):\n",
    "        return (Car.name,Car.number_of_doors,Car.fuel_economy)\n",
    "    def print_information(self): # definition of class method.\n",
    "        print(Car.name,end=\" \")\n",
    "        print(Car.number_of_doors,end=\" \")\n",
    "        print(Car.fuel_economy)\n",
    "\n",
    "c1 = Car(\"honda\",4,87) # initlization of an object.\n",
    "print(\"initial data: \", end =\" \")\n",
    "c1.print_information() # calling class method by using class object.\n",
    "\n",
    "\n",
    "c1.setter(\"honda\",4,90)\n",
    "print(\"new data: \",end =\" \")\n",
    "c1.print_information() # calling class method by using class object.\n",
    "\n",
    "\n",
    "(cname,n_doors,fuel_eco) = c1.getter()\n",
    "print(\"output: \",end =\" \")\n",
    "print(cname,\" \",n_doors,\" \",fuel_eco)"
   ]
  },
  {
   "cell_type": "markdown",
   "metadata": {},
   "source": [
    "### Task 11:\n",
    "\n",
    "Design and implement a class named Student that have private attributes name, id, cell# and cgpa. You have to implement the default constructor along with setters getters. Interface will perform required tasks and display the information about three Students including their grade.\n",
    "\n",
    "\n",
    "Note: The grade will be awarded to students according to their final cgpa.\n",
    "\n",
    "Input:\n",
    "\n",
    "Name of the Student: Adeel Anwar\n",
    "\n",
    "Id of the Student: L1F12BSCS2099\n",
    "\n",
    "Cell# of the Student: 03009999999\n",
    "\n",
    "CGPA of the Student: 3"
   ]
  },
  {
   "cell_type": "code",
   "execution_count": 32,
   "metadata": {},
   "outputs": [
    {
     "name": "stdout",
     "output_type": "stream",
     "text": [
      "Adeel Anwar L1F12BSCS2099 03009999999 3\n"
     ]
    }
   ],
   "source": [
    "class Student:\n",
    "    name=\"\" # the data member of a class.\n",
    "    ID=0 # the data member of a class.\n",
    "    phone_no=0 # the data member of a class.\n",
    "    cgpa=0\n",
    "    def __init__(self,Name,ID,phone_no,cgpa): # the initilization of data members.\n",
    "        Student.name = Name\n",
    "        Student.ID = ID\n",
    "        Student.phone_no =phone_no\n",
    "        Student.cgpa=cgpa\n",
    "    def setter(self,Name,ID,phone_no,cgpa):\n",
    "        Student.name = Name\n",
    "        Student.ID = ID\n",
    "        Student.phone_no =phone_no\n",
    "        Student.cgpa=cgpa\n",
    "    def getter(self):\n",
    "        return (Student.name,Student.ID,Student.phone_no,Student.cgpa)\n",
    "    def print_information(self): # definition of class method.\n",
    "        print(Student.name,end=\" \")\n",
    "        print(Student.ID,end=\" \")\n",
    "        print(Student.phone_no,end=\" \")\n",
    "        print(Student.cgpa)\n",
    "\n",
    "S1 = Student(\"Adeel Anwar\",\"L1F12BSCS2099\",\"03009999999\",3) # initlization of an object.\n",
    "S1.print_information() # calling class method by using class object."
   ]
  }
 ],
 "metadata": {
  "kernelspec": {
   "display_name": "Python 3",
   "language": "python",
   "name": "python3"
  },
  "language_info": {
   "codemirror_mode": {
    "name": "ipython",
    "version": 3
   },
   "file_extension": ".py",
   "mimetype": "text/x-python",
   "name": "python",
   "nbconvert_exporter": "python",
   "pygments_lexer": "ipython3",
   "version": "3.8.5"
  }
 },
 "nbformat": 4,
 "nbformat_minor": 4
}
