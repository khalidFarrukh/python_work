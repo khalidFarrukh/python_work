{
 "cells": [
  {
   "cell_type": "code",
   "execution_count": 1,
   "metadata": {},
   "outputs": [
    {
     "name": "stdout",
     "output_type": "stream",
     "text": [
      "(1920, 1080)\n"
     ]
    }
   ],
   "source": [
    "import cv2\n",
    "import numpy as np\n",
    "import pyautogui\n",
    "import keyboard as kb\n",
    "import mouse\n",
    "import time\n",
    "import random\n",
    "\n",
    "\n",
    "# display screen resolution, get it using pyautogui itself\n",
    "SCREEN_SIZE = tuple(pyautogui.size())\n",
    "print(SCREEN_SIZE)\n",
    "\n",
    "while True:\n",
    "  # inn = list(mouse.get_position())\n",
    "  x = random.randint(0,SCREEN_SIZE[0])\n",
    "  y = random.randint(0,SCREEN_SIZE[1])\n",
    "  mouse.move(x,y)\n",
    "  if kb.read_key()==\"esc\":\n",
    "    break\n",
    "  # print(inn)\n",
    "  # print(type(inn))\n",
    "  # print(str(inn))\n",
    "  # print(type(inn))\n",
    "  # time.sleep(1)"
   ]
  },
  {
   "cell_type": "code",
   "execution_count": 1,
   "metadata": {},
   "outputs": [],
   "source": [
    "import pyautogui\n",
    "import pickle\n",
    "import numpy as np\n",
    "import keyboard as kb\n",
    "import cv2\n",
    "\n",
    "SCREEN_SIZE = tuple(pyautogui.size())\n",
    "while(True):\n",
    "    img = pyautogui.screenshot()\n",
    "    frame = np.array(img)\n",
    "    frame = cv2.cvtColor(frame, cv2.COLOR_BGR2GRAY)\n",
    "    window_name = 'live screen'\n",
    "    cv2.namedWindow(window_name, cv2.WND_PROP_FULLSCREEN)\n",
    "    cv2.moveWindow(window_name, SCREEN_SIZE[0] - 1, SCREEN_SIZE[1] - 1)\n",
    "    cv2.setWindowProperty(window_name, cv2.WND_PROP_FULLSCREEN,cv2.WINDOW_FULLSCREEN)\n",
    "    cv2.imshow(window_name, frame)\n",
    "    if cv2.waitKey(25) & kb.is_pressed('esc'):\n",
    "        cv2.destroyAllWindows()\n",
    "        break\n",
    "    cv2.destroyAllWindows()\n",
    "    \n"
   ]
  }
 ],
 "metadata": {
  "kernelspec": {
   "display_name": "Python 3",
   "language": "python",
   "name": "python3"
  },
  "language_info": {
   "codemirror_mode": {
    "name": "ipython",
    "version": 3
   },
   "file_extension": ".py",
   "mimetype": "text/x-python",
   "name": "python",
   "nbconvert_exporter": "python",
   "pygments_lexer": "ipython3",
   "version": "3.8.2"
  }
 },
 "nbformat": 4,
 "nbformat_minor": 4
}
