{
 "cells": [
  {
   "cell_type": "code",
   "execution_count": 1,
   "metadata": {},
   "outputs": [
    {
     "name": "stdout",
     "output_type": "stream",
     "text": [
      "(1920, 1080)\n"
     ]
    }
   ],
   "source": [
    "import cv2\n",
    "import numpy as np\n",
    "import pyautogui\n",
    "import keyboard as kb\n",
    "import mouse\n",
    "import time\n",
    "import random\n",
    "\n",
    "# display screen resolution, get it using pyautogui itself\n",
    "SCREEN_SIZE = tuple(pyautogui.size())\n",
    "print(SCREEN_SIZE)\n",
    "\n",
    "while True:\n",
    "  # inn = list(mouse.get_position())\n",
    "  x = random.randint(0,SCREEN_SIZE[0])\n",
    "  y = random.randint(0,SCREEN_SIZE[1])\n",
    "  mouse.move(x,y)\n",
    "  if kb.read_key()==\"esc\":\n",
    "    break\n",
    "  # print(inn)\n",
    "  # print(type(inn))\n",
    "  # print(str(inn))\n",
    "  # print(type(inn))\n",
    "  # time.sleep(1)\n",
    "\n"
   ]
  }
 ],
 "metadata": {
  "kernelspec": {
   "display_name": "Python 3",
   "language": "python",
   "name": "python3"
  },
  "language_info": {
   "codemirror_mode": {
    "name": "ipython",
    "version": 3
   },
   "file_extension": ".py",
   "mimetype": "text/x-python",
   "name": "python",
   "nbconvert_exporter": "python",
   "pygments_lexer": "ipython3",
   "version": "3.8.2"
  }
 },
 "nbformat": 4,
 "nbformat_minor": 4
}
